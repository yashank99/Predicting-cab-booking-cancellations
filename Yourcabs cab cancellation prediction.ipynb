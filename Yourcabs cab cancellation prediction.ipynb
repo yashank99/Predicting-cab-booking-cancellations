{
 "cells": [
  {
   "cell_type": "code",
   "execution_count": 6,
   "id": "608d205c",
   "metadata": {},
   "outputs": [
    {
     "name": "stderr",
     "output_type": "stream",
     "text": [
      "C:\\Users\\Yasha\\anaconda3\\lib\\site-packages\\sklearn\\impute\\_base.py:49: FutureWarning: Unlike other reduction functions (e.g. `skew`, `kurtosis`), the default behavior of `mode` typically preserves the axis it acts along. In SciPy 1.11.0, this behavior will change: the default value of `keepdims` will become False, the `axis` over which the statistic is taken will be eliminated, and the value None will no longer be accepted. Set `keepdims` to True or False to avoid this warning.\n",
      "  mode = stats.mode(array)\n"
     ]
    },
    {
     "name": "stdout",
     "output_type": "stream",
     "text": [
      "Neural Network Accuracy: 0.914354783009094\n",
      "Logistic Regression Accuracy: 0.9269022677564176\n",
      "Confusion Matrix:\n",
      "[[8052    0]\n",
      " [ 635    0]]\n",
      "Classification Report:\n",
      "              precision    recall  f1-score   support\n",
      "\n",
      "         0.0       0.93      1.00      0.96      8052\n",
      "         1.0       0.00      0.00      0.00       635\n",
      "\n",
      "    accuracy                           0.93      8687\n",
      "   macro avg       0.46      0.50      0.48      8687\n",
      "weighted avg       0.86      0.93      0.89      8687\n",
      "\n"
     ]
    },
    {
     "name": "stderr",
     "output_type": "stream",
     "text": [
      "C:\\Users\\Yasha\\anaconda3\\lib\\site-packages\\sklearn\\linear_model\\_logistic.py:814: ConvergenceWarning: lbfgs failed to converge (status=1):\n",
      "STOP: TOTAL NO. of ITERATIONS REACHED LIMIT.\n",
      "\n",
      "Increase the number of iterations (max_iter) or scale the data as shown in:\n",
      "    https://scikit-learn.org/stable/modules/preprocessing.html\n",
      "Please also refer to the documentation for alternative solver options:\n",
      "    https://scikit-learn.org/stable/modules/linear_model.html#logistic-regression\n",
      "  n_iter_i = _check_optimize_result(\n",
      "C:\\Users\\Yasha\\anaconda3\\lib\\site-packages\\sklearn\\metrics\\_classification.py:1318: UndefinedMetricWarning: Precision and F-score are ill-defined and being set to 0.0 in labels with no predicted samples. Use `zero_division` parameter to control this behavior.\n",
      "  _warn_prf(average, modifier, msg_start, len(result))\n",
      "C:\\Users\\Yasha\\anaconda3\\lib\\site-packages\\sklearn\\metrics\\_classification.py:1318: UndefinedMetricWarning: Precision and F-score are ill-defined and being set to 0.0 in labels with no predicted samples. Use `zero_division` parameter to control this behavior.\n",
      "  _warn_prf(average, modifier, msg_start, len(result))\n",
      "C:\\Users\\Yasha\\anaconda3\\lib\\site-packages\\sklearn\\metrics\\_classification.py:1318: UndefinedMetricWarning: Precision and F-score are ill-defined and being set to 0.0 in labels with no predicted samples. Use `zero_division` parameter to control this behavior.\n",
      "  _warn_prf(average, modifier, msg_start, len(result))\n"
     ]
    }
   ],
   "source": [
    "import pandas as pd\n",
    "from sklearn.preprocessing import LabelEncoder\n",
    "from sklearn.impute import SimpleImputer\n",
    "from sklearn.model_selection import train_test_split\n",
    "from sklearn.neural_network import MLPClassifier\n",
    "from sklearn.linear_model import LogisticRegression\n",
    "from sklearn.metrics import accuracy_score, confusion_matrix, classification_report\n",
    "\n",
    "# Read the training and test data\n",
    "train_data = pd.read_csv('YourCabs_training.csv')\n",
    "test_data = pd.read_csv('YourCabs_score.csv')\n",
    "\n",
    "# Concatenate the training and test data\n",
    "data = pd.concat([train_data, test_data], ignore_index=True)\n",
    "\n",
    "# Convert date columns to datetime\n",
    "date_columns = ['from_date', 'to_date', 'booking_created']\n",
    "data[date_columns] = data[date_columns].apply(pd.to_datetime)\n",
    "\n",
    "# Impute missing values with the most frequent strategy\n",
    "imputer = SimpleImputer(strategy='most_frequent')\n",
    "columns_to_impute = ['from_area_id', 'to_area_id', 'from_city_id', 'to_city_id']\n",
    "data[columns_to_impute] = imputer.fit_transform(data[columns_to_impute])\n",
    "\n",
    "# Fill missing values in 'package_id' with 0\n",
    "data['package_id'].fillna(0, inplace=True)\n",
    "\n",
    "# Encode categorical columns using label encoding\n",
    "categorical_cols = ['vehicle_model_id', 'travel_type_id', 'from_area_id', 'to_area_id', 'from_city_id', 'to_city_id']\n",
    "label_encoder = LabelEncoder()\n",
    "for col in categorical_cols:\n",
    "    data[col] = label_encoder.fit_transform(data[col].astype(str))\n",
    "\n",
    "# Split the data back into train and test sets\n",
    "train_data = data[~data['Car_Cancellation'].isnull()]\n",
    "test_data = data[data['Car_Cancellation'].isnull()]\n",
    "\n",
    "# Define features and target variable\n",
    "features = ['vehicle_model_id', 'travel_type_id', 'from_area_id', 'to_area_id', 'from_city_id', 'to_city_id', 'online_booking', 'mobile_site_booking']\n",
    "target = 'Car_Cancellation'\n",
    "X_train = train_data[features]\n",
    "y_train = train_data[target]\n",
    "\n",
    "# Split the training data into train and validation sets\n",
    "X_train, X_val, y_train, y_val = train_test_split(X_train, y_train, test_size=0.2, random_state=42)\n",
    "\n",
    "# Train a neural network classifier\n",
    "nn_classifier = MLPClassifier(random_state=42)\n",
    "nn_classifier.fit(X_train, y_train)\n",
    "nn_predictions = nn_classifier.predict(X_val)\n",
    "nn_accuracy = accuracy_score(y_val, nn_predictions)\n",
    "print(\"Neural Network Accuracy:\", nn_accuracy)\n",
    "\n",
    "# Train a Logistic Regression classifier\n",
    "lr_classifier = LogisticRegression(random_state=42)\n",
    "lr_classifier.fit(X_train, y_train)\n",
    "lr_predictions = lr_classifier.predict(X_val)\n",
    "lr_accuracy = accuracy_score(y_val, lr_predictions)\n",
    "print(\"Logistic Regression Accuracy:\", lr_accuracy)\n",
    "\n",
    "# Evaluate the Logistic Regression classifier\n",
    "cm = confusion_matrix(y_val, lr_predictions)\n",
    "print(\"Confusion Matrix:\")\n",
    "print(cm)\n",
    "report = classification_report(y_val, lr_predictions)\n",
    "print(\"Classification Report:\")\n",
    "print(report)\n"
   ]
  },
  {
   "cell_type": "code",
   "execution_count": null,
   "id": "a2e2ef60",
   "metadata": {},
   "outputs": [],
   "source": []
  }
 ],
 "metadata": {
  "kernelspec": {
   "display_name": "Python 3 (ipykernel)",
   "language": "python",
   "name": "python3"
  },
  "language_info": {
   "codemirror_mode": {
    "name": "ipython",
    "version": 3
   },
   "file_extension": ".py",
   "mimetype": "text/x-python",
   "name": "python",
   "nbconvert_exporter": "python",
   "pygments_lexer": "ipython3",
   "version": "3.9.13"
  }
 },
 "nbformat": 4,
 "nbformat_minor": 5
}
